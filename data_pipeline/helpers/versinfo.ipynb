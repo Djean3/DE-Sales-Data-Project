{
 "cells": [
  {
   "cell_type": "code",
   "execution_count": 3,
   "metadata": {},
   "outputs": [
    {
     "ename": "ModuleNotFoundError",
     "evalue": "No module named 'cpuinfo'",
     "output_type": "error",
     "traceback": [
      "\u001b[0;31m---------------------------------------------------------------------------\u001b[0m",
      "\u001b[0;31mModuleNotFoundError\u001b[0m                       Traceback (most recent call last)",
      "Cell \u001b[0;32mIn[3], line 6\u001b[0m\n\u001b[1;32m      4\u001b[0m \u001b[38;5;28;01mimport\u001b[39;00m \u001b[38;5;21;01mpsutil\u001b[39;00m\n\u001b[1;32m      5\u001b[0m \u001b[38;5;28;01mimport\u001b[39;00m \u001b[38;5;21;01mos\u001b[39;00m\n\u001b[0;32m----> 6\u001b[0m \u001b[38;5;28;01mimport\u001b[39;00m \u001b[38;5;21;01mcpuinfo\u001b[39;00m\n\u001b[1;32m      7\u001b[0m \u001b[38;5;28;01mimport\u001b[39;00m \u001b[38;5;21;01mtensorflow\u001b[39;00m \u001b[38;5;28;01mas\u001b[39;00m \u001b[38;5;21;01mtf\u001b[39;00m\n\u001b[1;32m      8\u001b[0m \u001b[38;5;28;01mfrom\u001b[39;00m \u001b[38;5;21;01mtensorflow\u001b[39;00m\u001b[38;5;21;01m.\u001b[39;00m\u001b[38;5;21;01mpython\u001b[39;00m\u001b[38;5;21;01m.\u001b[39;00m\u001b[38;5;21;01mclient\u001b[39;00m \u001b[38;5;28;01mimport\u001b[39;00m device_lib\n",
      "\u001b[0;31mModuleNotFoundError\u001b[0m: No module named 'cpuinfo'"
     ]
    }
   ],
   "source": [
    "import datetime\n",
    "import sys\n",
    "import platform\n",
    "import psutil\n",
    "import os\n",
    "import cpuinfo\n",
    "import tensorflow as tf\n",
    "from tensorflow.python.client import device_lib\n",
    "\n",
    "# Date and Time of Execution\n",
    "print(f\"Current date and time: {datetime.datetime.now()}\")\n",
    "print(f\"The Python executable is: {sys.executable}\")\n",
    "print(f\"The Python version is: {platform.python_version()}\")\n",
    "print(f\"The TensorFlow version is: {tf.__version__}\")\n",
    "print(f\"The system is: {platform.system()}\")\n",
    "\n",
    "# Get CPU information using cpuinfo\n",
    "cpu_info = cpuinfo.get_cpu_info()['brand_raw']\n",
    "print(f\"CPU: {cpu_info}, Physical cores: {psutil.cpu_count(logical=False)}, Total cores: {psutil.cpu_count(logical=True)}\")\n",
    "print(f\"RAM: {psutil.virtual_memory().total / (1024 ** 3):.2f} GB\")\n",
    "\n",
    "# Disk Space\n",
    "print(f\"Disk space available on current partition: {psutil.disk_usage('.').free / (1024 ** 3):.2f} GB\")\n",
    "\n",
    "# Virtual Environment\n",
    "if 'VIRTUAL_ENV' in os.environ:\n",
    "    print(f\"Virtual ENV: {os.environ['VIRTUAL_ENV']}\")\n",
    "else:\n",
    "    print(\"Not running inside a Virtual Environment\")\n",
    "\n",
    "# Check if TensorFlow is using any GPU\n",
    "if tf.config.list_physical_devices('GPU'):\n",
    "    devices = device_lib.list_local_devices()\n",
    "    gpu_devices = [d for d in devices if d.device_type == \"GPU\"]\n",
    "\n",
    "    # Print the name of each GPU device\n",
    "    gpu_names = []\n",
    "    for gpu in gpu_devices:\n",
    "        name = gpu.physical_device_desc.split(\",\")[1]  # Extracting the name part from the description\n",
    "        gpu_names.append(name.strip())  # Stripping any leading/trailing whitespace\n",
    "\n",
    "    print(\"TensorFlow is using GPU:\", \", \".join(gpu_names))\n",
    "else:\n",
    "    print(\"TensorFlow is not using the GPU. Consider enabling GPU for faster performance.\")"
   ]
  },
  {
   "cell_type": "code",
   "execution_count": 2,
   "metadata": {},
   "outputs": [
    {
     "name": "stdout",
     "output_type": "stream",
     "text": [
      "\u001b[31mERROR: Could not find a version that satisfies the requirement cpu_info (from versions: none)\u001b[0m\u001b[31m\n",
      "\u001b[0m\u001b[31mERROR: No matching distribution found for cpu_info\u001b[0m\u001b[31m\n",
      "\u001b[0m\n",
      "\u001b[1m[\u001b[0m\u001b[34;49mnotice\u001b[0m\u001b[1;39;49m]\u001b[0m\u001b[39;49m A new release of pip is available: \u001b[0m\u001b[31;49m23.3.1\u001b[0m\u001b[39;49m -> \u001b[0m\u001b[32;49m24.0\u001b[0m\n",
      "\u001b[1m[\u001b[0m\u001b[34;49mnotice\u001b[0m\u001b[1;39;49m]\u001b[0m\u001b[39;49m To update, run: \u001b[0m\u001b[32;49mpip install --upgrade pip\u001b[0m\n",
      "Note: you may need to restart the kernel to use updated packages.\n"
     ]
    }
   ],
   "source": [
    "pip install cpu_info"
   ]
  },
  {
   "cell_type": "code",
   "execution_count": null,
   "metadata": {},
   "outputs": [],
   "source": []
  }
 ],
 "metadata": {
  "kernelspec": {
   "display_name": "data-pipeline-3s_-SORf-py3.11",
   "language": "python",
   "name": "python3"
  },
  "language_info": {
   "codemirror_mode": {
    "name": "ipython",
    "version": 3
   },
   "file_extension": ".py",
   "mimetype": "text/x-python",
   "name": "python",
   "nbconvert_exporter": "python",
   "pygments_lexer": "ipython3",
   "version": "3.11.7"
  }
 },
 "nbformat": 4,
 "nbformat_minor": 2
}
