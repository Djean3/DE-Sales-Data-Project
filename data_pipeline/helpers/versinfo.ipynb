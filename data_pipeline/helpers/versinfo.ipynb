{
 "cells": [
  {
   "cell_type": "code",
   "execution_count": 3,
   "metadata": {},
   "outputs": [
    {
     "name": "stdout",
     "output_type": "stream",
     "text": [
      "Current date and time: 2024-03-14 20:09:22.754532\n",
      "The Python executable is: /home/dj/.cache/pypoetry/virtualenvs/data-pipeline-3s_-SORf-py3.11/bin/python\n",
      "The Python version is: 3.11.7\n",
      "The system is: Linux\n",
      "CPU: 13th Gen Intel(R) Core(TM) i9-13900K, Physical cores: 16, Total cores: 32\n",
      "RAM: 31.20 GB\n",
      "Disk space available on current partition: 949.72 GB\n",
      "Virtual ENV: /home/dj/.cache/pypoetry/virtualenvs/data-pipeline-3s_-SORf-py3.11\n"
     ]
    }
   ],
   "source": [
    "import datetime\n",
    "import sys\n",
    "import platform\n",
    "import psutil\n",
    "import os\n",
    "import cpuinfo\n",
    "#import tensorflow as tf\n",
    "#from tensorflow.python.client import device_lib\n",
    "\n",
    "# Date and Time of Execution\n",
    "print(f\"Current date and time: {datetime.datetime.now()}\")\n",
    "print(f\"The Python executable is: {sys.executable}\")\n",
    "print(f\"The Python version is: {platform.python_version()}\")\n",
    "#print(f\"The TensorFlow version is: {tf.__version__}\")\n",
    "print(f\"The system is: {platform.system()}\")\n",
    "\n",
    "# Get CPU information using cpuinfo\n",
    "cpu_info = cpuinfo.get_cpu_info()['brand_raw']\n",
    "print(f\"CPU: {cpu_info}, Physical cores: {psutil.cpu_count(logical=False)}, Total cores: {psutil.cpu_count(logical=True)}\")\n",
    "print(f\"RAM: {psutil.virtual_memory().total / (1024 ** 3):.2f} GB\")\n",
    "\n",
    "# Disk Space\n",
    "print(f\"Disk space available on current partition: {psutil.disk_usage('.').free / (1024 ** 3):.2f} GB\")\n",
    "\n",
    "# Virtual Environment\n",
    "if 'VIRTUAL_ENV' in os.environ:\n",
    "    print(f\"Virtual ENV: {os.environ['VIRTUAL_ENV']}\")\n",
    "else:\n",
    "    print(\"Not running inside a Virtual Environment\")\n",
    "\n",
    "# Check if TensorFlow is using any GPU\n",
    "#if tf.config.list_physical_devices('GPU'):\n",
    "    #devices = device_lib.list_local_devices()\n",
    "    #gpu_devices = [d for d in devices if d.device_type == \"GPU\"]\n",
    "\n",
    "    # Print the name of each GPU device\n",
    "    #gpu_names = []\n",
    "    #for gpu in gpu_devices:\n",
    "        #name = gpu.physical_device_desc.split(\",\")[1]  # Extracting the name part from the description\n",
    "        #gpu_names.append(name.strip())  # Stripping any leading/trailing whitespace\n",
    "\n",
    "    #print(\"TensorFlow is using GPU:\", \", \".join(gpu_names))\n",
    "#else:\n",
    "    #print(\"TensorFlow is not using the GPU. Consider enabling GPU for faster performance.\")"
   ]
  },
  {
   "cell_type": "code",
   "execution_count": null,
   "metadata": {},
   "outputs": [],
   "source": []
  }
 ],
 "metadata": {
  "kernelspec": {
   "display_name": "data-pipeline-3s_-SORf-py3.11",
   "language": "python",
   "name": "python3"
  },
  "language_info": {
   "codemirror_mode": {
    "name": "ipython",
    "version": 3
   },
   "file_extension": ".py",
   "mimetype": "text/x-python",
   "name": "python",
   "nbconvert_exporter": "python",
   "pygments_lexer": "ipython3",
   "version": "3.11.7"
  }
 },
 "nbformat": 4,
 "nbformat_minor": 2
}
